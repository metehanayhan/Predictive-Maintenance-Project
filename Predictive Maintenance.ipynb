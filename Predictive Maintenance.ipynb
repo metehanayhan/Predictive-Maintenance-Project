{
 "cells": [
  {
   "cell_type": "markdown",
   "id": "4c9fd0f5-f0ad-46c1-abe8-2be4231968c8",
   "metadata": {},
   "source": [
    "# METEHAN AYHAN - Predictive Maintenance Project"
   ]
  },
  {
   "cell_type": "markdown",
   "id": "366f9944-dbf3-4766-8ce7-0f15d1ec7bc2",
   "metadata": {},
   "source": [
    "Bu proje, bir teslimat şirketi için tahmine dayalı bakım modelinin geliştirilmesini amaçlamaktadır. Projede, makine öğrenimi kullanarak ekipman arızalarını önceden tahmin edebilecek bir sınıflandırma modeli oluşturulacaktır.\n",
    "\n",
    "<img src='https://visualfactories.com/wp-content/uploads/2019/09/Predictive-Maintenance-4.0-Data-Logger-CANopen.png' width='500'>\n",
    "\n",
    "Data Dictionary:\n",
    "- date: Cihazın durumu hakkında verilerin toplandığı tarih.\n",
    "- device: Cihazın kimlik numarası veya kodu.\n",
    "- failure: Cihazın o tarihte arıza yapıp yapmadığını gösteren etiket. 0, arıza yok; 1, arıza var.\n",
    "- attribute1 - attribute9: Cihazın o tarihteki çeşitli özelliklerini veya sensör verilerini temsil eden sayısal değerler."
   ]
  },
  {
   "cell_type": "markdown",
   "id": "6cf8db32-0a2e-44a0-aa42-f27a2c66cbbb",
   "metadata": {},
   "source": [
    "### Import Packet"
   ]
  },
  {
   "cell_type": "code",
   "execution_count": 5,
   "id": "76e1db3a-5ab0-4720-9f96-a6937f497535",
   "metadata": {},
   "outputs": [],
   "source": [
    "from imblearn.over_sampling import SMOTE\n",
    "import matplotlib.pyplot as plt\n",
    "import pandas as pd\n",
    "import seaborn as sns\n",
    "from sklearn.preprocessing import StandardScaler, LabelEncoder\n",
    "pd.set_option(\"display.max_columns\",55)\n",
    "\n",
    "import warnings\n",
    "warnings.filterwarnings('ignore')"
   ]
  },
  {
   "cell_type": "markdown",
   "id": "4b8e80ca-f1dd-4483-b897-3470cf5fb988",
   "metadata": {},
   "source": [
    "### Import Data"
   ]
  },
  {
   "cell_type": "code",
   "execution_count": 7,
   "id": "b746aa85-1044-4401-9f9c-bd54f0e441e7",
   "metadata": {},
   "outputs": [],
   "source": [
    "df=pd.read_csv('failure.csv')"
   ]
  },
  {
   "cell_type": "code",
   "execution_count": 8,
   "id": "b84d4149-7a8f-4b4c-a869-d4a950a41494",
   "metadata": {},
   "outputs": [
    {
     "data": {
      "text/html": [
       "<div>\n",
       "<style scoped>\n",
       "    .dataframe tbody tr th:only-of-type {\n",
       "        vertical-align: middle;\n",
       "    }\n",
       "\n",
       "    .dataframe tbody tr th {\n",
       "        vertical-align: top;\n",
       "    }\n",
       "\n",
       "    .dataframe thead th {\n",
       "        text-align: right;\n",
       "    }\n",
       "</style>\n",
       "<table border=\"1\" class=\"dataframe\">\n",
       "  <thead>\n",
       "    <tr style=\"text-align: right;\">\n",
       "      <th></th>\n",
       "      <th>date</th>\n",
       "      <th>device</th>\n",
       "      <th>failure</th>\n",
       "      <th>attribute1</th>\n",
       "      <th>attribute2</th>\n",
       "      <th>attribute3</th>\n",
       "      <th>attribute4</th>\n",
       "      <th>attribute5</th>\n",
       "      <th>attribute6</th>\n",
       "      <th>attribute7</th>\n",
       "      <th>attribute8</th>\n",
       "      <th>attribute9</th>\n",
       "    </tr>\n",
       "  </thead>\n",
       "  <tbody>\n",
       "    <tr>\n",
       "      <th>0</th>\n",
       "      <td>2015-01-01</td>\n",
       "      <td>S1F01085</td>\n",
       "      <td>0</td>\n",
       "      <td>215630672</td>\n",
       "      <td>56</td>\n",
       "      <td>0</td>\n",
       "      <td>52</td>\n",
       "      <td>6</td>\n",
       "      <td>407438</td>\n",
       "      <td>0</td>\n",
       "      <td>0</td>\n",
       "      <td>7</td>\n",
       "    </tr>\n",
       "    <tr>\n",
       "      <th>1</th>\n",
       "      <td>2015-01-01</td>\n",
       "      <td>S1F0166B</td>\n",
       "      <td>0</td>\n",
       "      <td>61370680</td>\n",
       "      <td>0</td>\n",
       "      <td>3</td>\n",
       "      <td>0</td>\n",
       "      <td>6</td>\n",
       "      <td>403174</td>\n",
       "      <td>0</td>\n",
       "      <td>0</td>\n",
       "      <td>0</td>\n",
       "    </tr>\n",
       "    <tr>\n",
       "      <th>2</th>\n",
       "      <td>2015-01-01</td>\n",
       "      <td>S1F01E6Y</td>\n",
       "      <td>0</td>\n",
       "      <td>173295968</td>\n",
       "      <td>0</td>\n",
       "      <td>0</td>\n",
       "      <td>0</td>\n",
       "      <td>12</td>\n",
       "      <td>237394</td>\n",
       "      <td>0</td>\n",
       "      <td>0</td>\n",
       "      <td>0</td>\n",
       "    </tr>\n",
       "    <tr>\n",
       "      <th>3</th>\n",
       "      <td>2015-01-01</td>\n",
       "      <td>S1F01JE0</td>\n",
       "      <td>0</td>\n",
       "      <td>79694024</td>\n",
       "      <td>0</td>\n",
       "      <td>0</td>\n",
       "      <td>0</td>\n",
       "      <td>6</td>\n",
       "      <td>410186</td>\n",
       "      <td>0</td>\n",
       "      <td>0</td>\n",
       "      <td>0</td>\n",
       "    </tr>\n",
       "    <tr>\n",
       "      <th>4</th>\n",
       "      <td>2015-01-01</td>\n",
       "      <td>S1F01R2B</td>\n",
       "      <td>0</td>\n",
       "      <td>135970480</td>\n",
       "      <td>0</td>\n",
       "      <td>0</td>\n",
       "      <td>0</td>\n",
       "      <td>15</td>\n",
       "      <td>313173</td>\n",
       "      <td>0</td>\n",
       "      <td>0</td>\n",
       "      <td>3</td>\n",
       "    </tr>\n",
       "  </tbody>\n",
       "</table>\n",
       "</div>"
      ],
      "text/plain": [
       "         date    device  failure  attribute1  attribute2  attribute3  \\\n",
       "0  2015-01-01  S1F01085        0   215630672          56           0   \n",
       "1  2015-01-01  S1F0166B        0    61370680           0           3   \n",
       "2  2015-01-01  S1F01E6Y        0   173295968           0           0   \n",
       "3  2015-01-01  S1F01JE0        0    79694024           0           0   \n",
       "4  2015-01-01  S1F01R2B        0   135970480           0           0   \n",
       "\n",
       "   attribute4  attribute5  attribute6  attribute7  attribute8  attribute9  \n",
       "0          52           6      407438           0           0           7  \n",
       "1           0           6      403174           0           0           0  \n",
       "2           0          12      237394           0           0           0  \n",
       "3           0           6      410186           0           0           0  \n",
       "4           0          15      313173           0           0           3  "
      ]
     },
     "execution_count": 8,
     "metadata": {},
     "output_type": "execute_result"
    }
   ],
   "source": [
    "df.head()"
   ]
  },
  {
   "cell_type": "markdown",
   "id": "9fa2c6f6-6fae-4bb0-aa61-57f1f73d0800",
   "metadata": {},
   "source": [
    "### EDA - Exploratory Data Analysis"
   ]
  },
  {
   "cell_type": "code",
   "execution_count": 10,
   "id": "787f8e72-1b17-4b83-b901-b1c001a6d59b",
   "metadata": {},
   "outputs": [
    {
     "data": {
      "text/html": [
       "<div>\n",
       "<style scoped>\n",
       "    .dataframe tbody tr th:only-of-type {\n",
       "        vertical-align: middle;\n",
       "    }\n",
       "\n",
       "    .dataframe tbody tr th {\n",
       "        vertical-align: top;\n",
       "    }\n",
       "\n",
       "    .dataframe thead th {\n",
       "        text-align: right;\n",
       "    }\n",
       "</style>\n",
       "<table border=\"1\" class=\"dataframe\">\n",
       "  <thead>\n",
       "    <tr style=\"text-align: right;\">\n",
       "      <th></th>\n",
       "      <th>date</th>\n",
       "      <th>device</th>\n",
       "      <th>failure</th>\n",
       "      <th>attribute1</th>\n",
       "      <th>attribute2</th>\n",
       "      <th>attribute3</th>\n",
       "      <th>attribute4</th>\n",
       "      <th>attribute5</th>\n",
       "      <th>attribute6</th>\n",
       "      <th>attribute7</th>\n",
       "      <th>attribute8</th>\n",
       "      <th>attribute9</th>\n",
       "    </tr>\n",
       "  </thead>\n",
       "  <tbody>\n",
       "    <tr>\n",
       "      <th>69096</th>\n",
       "      <td>2015-04-11</td>\n",
       "      <td>S1F13K8E</td>\n",
       "      <td>0</td>\n",
       "      <td>134946808</td>\n",
       "      <td>0</td>\n",
       "      <td>0</td>\n",
       "      <td>0</td>\n",
       "      <td>12</td>\n",
       "      <td>221638</td>\n",
       "      <td>0</td>\n",
       "      <td>0</td>\n",
       "      <td>0</td>\n",
       "    </tr>\n",
       "    <tr>\n",
       "      <th>83158</th>\n",
       "      <td>2015-05-19</td>\n",
       "      <td>S1F0JGJV</td>\n",
       "      <td>0</td>\n",
       "      <td>65459400</td>\n",
       "      <td>0</td>\n",
       "      <td>0</td>\n",
       "      <td>0</td>\n",
       "      <td>8</td>\n",
       "      <td>254528</td>\n",
       "      <td>0</td>\n",
       "      <td>0</td>\n",
       "      <td>0</td>\n",
       "    </tr>\n",
       "    <tr>\n",
       "      <th>17940</th>\n",
       "      <td>2015-01-22</td>\n",
       "      <td>S1F0GCED</td>\n",
       "      <td>0</td>\n",
       "      <td>61652640</td>\n",
       "      <td>0</td>\n",
       "      <td>0</td>\n",
       "      <td>0</td>\n",
       "      <td>9</td>\n",
       "      <td>224380</td>\n",
       "      <td>0</td>\n",
       "      <td>0</td>\n",
       "      <td>0</td>\n",
       "    </tr>\n",
       "    <tr>\n",
       "      <th>75368</th>\n",
       "      <td>2015-04-28</td>\n",
       "      <td>S1F0S49E</td>\n",
       "      <td>0</td>\n",
       "      <td>157549216</td>\n",
       "      <td>0</td>\n",
       "      <td>0</td>\n",
       "      <td>6</td>\n",
       "      <td>8</td>\n",
       "      <td>272334</td>\n",
       "      <td>0</td>\n",
       "      <td>0</td>\n",
       "      <td>0</td>\n",
       "    </tr>\n",
       "    <tr>\n",
       "      <th>17958</th>\n",
       "      <td>2015-01-22</td>\n",
       "      <td>S1F0JD7P</td>\n",
       "      <td>0</td>\n",
       "      <td>186590712</td>\n",
       "      <td>0</td>\n",
       "      <td>0</td>\n",
       "      <td>0</td>\n",
       "      <td>58</td>\n",
       "      <td>241308</td>\n",
       "      <td>0</td>\n",
       "      <td>0</td>\n",
       "      <td>0</td>\n",
       "    </tr>\n",
       "  </tbody>\n",
       "</table>\n",
       "</div>"
      ],
      "text/plain": [
       "             date    device  failure  attribute1  attribute2  attribute3  \\\n",
       "69096  2015-04-11  S1F13K8E        0   134946808           0           0   \n",
       "83158  2015-05-19  S1F0JGJV        0    65459400           0           0   \n",
       "17940  2015-01-22  S1F0GCED        0    61652640           0           0   \n",
       "75368  2015-04-28  S1F0S49E        0   157549216           0           0   \n",
       "17958  2015-01-22  S1F0JD7P        0   186590712           0           0   \n",
       "\n",
       "       attribute4  attribute5  attribute6  attribute7  attribute8  attribute9  \n",
       "69096           0          12      221638           0           0           0  \n",
       "83158           0           8      254528           0           0           0  \n",
       "17940           0           9      224380           0           0           0  \n",
       "75368           6           8      272334           0           0           0  \n",
       "17958           0          58      241308           0           0           0  "
      ]
     },
     "execution_count": 10,
     "metadata": {},
     "output_type": "execute_result"
    }
   ],
   "source": [
    "df.sample(5)"
   ]
  },
  {
   "cell_type": "code",
   "execution_count": 11,
   "id": "f26f7d8e-30b0-42c4-b99b-bb03f0099352",
   "metadata": {},
   "outputs": [],
   "source": [
    "# Değerler arasında çok fazla fark var"
   ]
  },
  {
   "cell_type": "code",
   "execution_count": 12,
   "id": "2dbf39c6-c2d4-43b1-8571-0d5897a4ca4f",
   "metadata": {},
   "outputs": [
    {
     "data": {
      "text/html": [
       "<div>\n",
       "<style scoped>\n",
       "    .dataframe tbody tr th:only-of-type {\n",
       "        vertical-align: middle;\n",
       "    }\n",
       "\n",
       "    .dataframe tbody tr th {\n",
       "        vertical-align: top;\n",
       "    }\n",
       "\n",
       "    .dataframe thead th {\n",
       "        text-align: right;\n",
       "    }\n",
       "</style>\n",
       "<table border=\"1\" class=\"dataframe\">\n",
       "  <thead>\n",
       "    <tr style=\"text-align: right;\">\n",
       "      <th></th>\n",
       "      <th>count</th>\n",
       "      <th>mean</th>\n",
       "      <th>std</th>\n",
       "      <th>min</th>\n",
       "      <th>25%</th>\n",
       "      <th>50%</th>\n",
       "      <th>75%</th>\n",
       "      <th>max</th>\n",
       "    </tr>\n",
       "  </thead>\n",
       "  <tbody>\n",
       "    <tr>\n",
       "      <th>failure</th>\n",
       "      <td>124494.0</td>\n",
       "      <td>8.514467e-04</td>\n",
       "      <td>2.916725e-02</td>\n",
       "      <td>0.0</td>\n",
       "      <td>0.0</td>\n",
       "      <td>0.0</td>\n",
       "      <td>0.0</td>\n",
       "      <td>1.0</td>\n",
       "    </tr>\n",
       "    <tr>\n",
       "      <th>attribute1</th>\n",
       "      <td>124494.0</td>\n",
       "      <td>1.223868e+08</td>\n",
       "      <td>7.045960e+07</td>\n",
       "      <td>0.0</td>\n",
       "      <td>61276754.0</td>\n",
       "      <td>122795744.0</td>\n",
       "      <td>183308370.0</td>\n",
       "      <td>244140480.0</td>\n",
       "    </tr>\n",
       "    <tr>\n",
       "      <th>attribute2</th>\n",
       "      <td>124494.0</td>\n",
       "      <td>1.594848e+02</td>\n",
       "      <td>2.179658e+03</td>\n",
       "      <td>0.0</td>\n",
       "      <td>0.0</td>\n",
       "      <td>0.0</td>\n",
       "      <td>0.0</td>\n",
       "      <td>64968.0</td>\n",
       "    </tr>\n",
       "    <tr>\n",
       "      <th>attribute3</th>\n",
       "      <td>124494.0</td>\n",
       "      <td>9.940455e+00</td>\n",
       "      <td>1.857473e+02</td>\n",
       "      <td>0.0</td>\n",
       "      <td>0.0</td>\n",
       "      <td>0.0</td>\n",
       "      <td>0.0</td>\n",
       "      <td>24929.0</td>\n",
       "    </tr>\n",
       "    <tr>\n",
       "      <th>attribute4</th>\n",
       "      <td>124494.0</td>\n",
       "      <td>1.741120e+00</td>\n",
       "      <td>2.290851e+01</td>\n",
       "      <td>0.0</td>\n",
       "      <td>0.0</td>\n",
       "      <td>0.0</td>\n",
       "      <td>0.0</td>\n",
       "      <td>1666.0</td>\n",
       "    </tr>\n",
       "    <tr>\n",
       "      <th>attribute5</th>\n",
       "      <td>124494.0</td>\n",
       "      <td>1.422269e+01</td>\n",
       "      <td>1.594302e+01</td>\n",
       "      <td>1.0</td>\n",
       "      <td>8.0</td>\n",
       "      <td>10.0</td>\n",
       "      <td>12.0</td>\n",
       "      <td>98.0</td>\n",
       "    </tr>\n",
       "    <tr>\n",
       "      <th>attribute6</th>\n",
       "      <td>124494.0</td>\n",
       "      <td>2.601729e+05</td>\n",
       "      <td>9.915101e+04</td>\n",
       "      <td>8.0</td>\n",
       "      <td>221452.0</td>\n",
       "      <td>249799.5</td>\n",
       "      <td>310266.0</td>\n",
       "      <td>689161.0</td>\n",
       "    </tr>\n",
       "    <tr>\n",
       "      <th>attribute7</th>\n",
       "      <td>124494.0</td>\n",
       "      <td>2.925282e-01</td>\n",
       "      <td>7.436924e+00</td>\n",
       "      <td>0.0</td>\n",
       "      <td>0.0</td>\n",
       "      <td>0.0</td>\n",
       "      <td>0.0</td>\n",
       "      <td>832.0</td>\n",
       "    </tr>\n",
       "    <tr>\n",
       "      <th>attribute8</th>\n",
       "      <td>124494.0</td>\n",
       "      <td>2.925282e-01</td>\n",
       "      <td>7.436924e+00</td>\n",
       "      <td>0.0</td>\n",
       "      <td>0.0</td>\n",
       "      <td>0.0</td>\n",
       "      <td>0.0</td>\n",
       "      <td>832.0</td>\n",
       "    </tr>\n",
       "    <tr>\n",
       "      <th>attribute9</th>\n",
       "      <td>124494.0</td>\n",
       "      <td>1.245152e+01</td>\n",
       "      <td>1.914256e+02</td>\n",
       "      <td>0.0</td>\n",
       "      <td>0.0</td>\n",
       "      <td>0.0</td>\n",
       "      <td>0.0</td>\n",
       "      <td>18701.0</td>\n",
       "    </tr>\n",
       "  </tbody>\n",
       "</table>\n",
       "</div>"
      ],
      "text/plain": [
       "               count          mean           std  min         25%  \\\n",
       "failure     124494.0  8.514467e-04  2.916725e-02  0.0         0.0   \n",
       "attribute1  124494.0  1.223868e+08  7.045960e+07  0.0  61276754.0   \n",
       "attribute2  124494.0  1.594848e+02  2.179658e+03  0.0         0.0   \n",
       "attribute3  124494.0  9.940455e+00  1.857473e+02  0.0         0.0   \n",
       "attribute4  124494.0  1.741120e+00  2.290851e+01  0.0         0.0   \n",
       "attribute5  124494.0  1.422269e+01  1.594302e+01  1.0         8.0   \n",
       "attribute6  124494.0  2.601729e+05  9.915101e+04  8.0    221452.0   \n",
       "attribute7  124494.0  2.925282e-01  7.436924e+00  0.0         0.0   \n",
       "attribute8  124494.0  2.925282e-01  7.436924e+00  0.0         0.0   \n",
       "attribute9  124494.0  1.245152e+01  1.914256e+02  0.0         0.0   \n",
       "\n",
       "                    50%          75%          max  \n",
       "failure             0.0          0.0          1.0  \n",
       "attribute1  122795744.0  183308370.0  244140480.0  \n",
       "attribute2          0.0          0.0      64968.0  \n",
       "attribute3          0.0          0.0      24929.0  \n",
       "attribute4          0.0          0.0       1666.0  \n",
       "attribute5         10.0         12.0         98.0  \n",
       "attribute6     249799.5     310266.0     689161.0  \n",
       "attribute7          0.0          0.0        832.0  \n",
       "attribute8          0.0          0.0        832.0  \n",
       "attribute9          0.0          0.0      18701.0  "
      ]
     },
     "execution_count": 12,
     "metadata": {},
     "output_type": "execute_result"
    }
   ],
   "source": [
    "df.describe().T"
   ]
  },
  {
   "cell_type": "code",
   "execution_count": 13,
   "id": "ff295ebf-e072-45dc-be52-246616bcf164",
   "metadata": {},
   "outputs": [
    {
     "name": "stdout",
     "output_type": "stream",
     "text": [
      "<class 'pandas.core.frame.DataFrame'>\n",
      "RangeIndex: 124494 entries, 0 to 124493\n",
      "Data columns (total 12 columns):\n",
      " #   Column      Non-Null Count   Dtype \n",
      "---  ------      --------------   ----- \n",
      " 0   date        124494 non-null  object\n",
      " 1   device      124494 non-null  object\n",
      " 2   failure     124494 non-null  int64 \n",
      " 3   attribute1  124494 non-null  int64 \n",
      " 4   attribute2  124494 non-null  int64 \n",
      " 5   attribute3  124494 non-null  int64 \n",
      " 6   attribute4  124494 non-null  int64 \n",
      " 7   attribute5  124494 non-null  int64 \n",
      " 8   attribute6  124494 non-null  int64 \n",
      " 9   attribute7  124494 non-null  int64 \n",
      " 10  attribute8  124494 non-null  int64 \n",
      " 11  attribute9  124494 non-null  int64 \n",
      "dtypes: int64(10), object(2)\n",
      "memory usage: 11.4+ MB\n"
     ]
    }
   ],
   "source": [
    "df.info()"
   ]
  },
  {
   "cell_type": "code",
   "execution_count": 14,
   "id": "51628c0d-7b2b-4222-8401-3a01d21150db",
   "metadata": {},
   "outputs": [],
   "source": [
    "# Date ve device object ve boş değer yok"
   ]
  },
  {
   "cell_type": "code",
   "execution_count": 15,
   "id": "5dd7c474-6149-4b9d-85d9-e90b0c35cef0",
   "metadata": {},
   "outputs": [
    {
     "data": {
      "text/plain": [
       "failure\n",
       "0    124388\n",
       "1       106\n",
       "Name: count, dtype: int64"
      ]
     },
     "execution_count": 15,
     "metadata": {},
     "output_type": "execute_result"
    }
   ],
   "source": [
    "df['failure'].value_counts()"
   ]
  },
  {
   "cell_type": "code",
   "execution_count": 16,
   "id": "240da379-6b5a-4a56-a860-f9f0f1dd2fbf",
   "metadata": {},
   "outputs": [
    {
     "data": {
      "image/png": "[encoded data removed]",
      "text/plain": [
       "<Figure size 640x480 with 1 Axes>"
      ]
     },
     "metadata": {},
     "output_type": "display_data"
    }
   ],
   "source": [
    "sns.countplot(x=df['failure']);"
   ]
  },
  {
   "cell_type": "code",
   "execution_count": 17,
   "id": "8a0c039d-7a65-49c4-ab0f-f6ce96ae0140",
   "metadata": {},
   "outputs": [],
   "source": [
    "#veriye göre 124k çalışmamış 106 tanesi çalışmış.. Veriseti çok düzensiz.."
   ]
  },
  {
   "cell_type": "markdown",
   "id": "d303fdb0-b9b1-4494-9c71-522507b1edbe",
   "metadata": {},
   "source": [
    "Önce çoğunluk değer azaltılmalı daha sonra azınlık değer artırılmalı"
   ]
  },
  {
   "cell_type": "markdown",
   "id": "21d7cb03-6f16-48ff-ae61-29bfc55aa095",
   "metadata": {},
   "source": [
    "### Data Preprocessing"
   ]
  },
  {
   "cell_type": "code",
   "execution_count": 20,
   "id": "ae9015fc-830e-44bf-baab-93eb15284be4",
   "metadata": {},
   "outputs": [],
   "source": [
    "#Önce tarih değerini düzeltelim"
   ]
  },
  {
   "cell_type": "code",
   "execution_count": 21,
   "id": "4dc1e783-6da4-489a-8d43-11ac2adddb61",
   "metadata": {},
   "outputs": [],
   "source": [
    "df['date'] = pd.to_datetime(df['date'], format='%Y-%m-%d')"
   ]
  },
  {
   "cell_type": "code",
   "execution_count": 22,
   "id": "854e62c4-9202-43d4-a791-dadf90c01a3a",
   "metadata": {},
   "outputs": [],
   "source": [
    "df['year'] = df['date'].dt.year\n",
    "df['month'] = df['date'].dt.month\n",
    "df['day'] = df['date'].dt.day"
   ]
  },
  {
   "cell_type": "code",
   "execution_count": 23,
   "id": "570efa60-c23d-4122-8417-9cf5483ec967",
   "metadata": {},
   "outputs": [],
   "source": [
    "df = df.drop(columns=['date'])"
   ]
  },
  {
   "cell_type": "code",
   "execution_count": 24,
   "id": "15272d3c-a1ac-4623-b3cb-171fea519061",
   "metadata": {},
   "outputs": [
    {
     "data": {
      "text/html": [
       "<div>\n",
       "<style scoped>\n",
       "    .dataframe tbody tr th:only-of-type {\n",
       "        vertical-align: middle;\n",
       "    }\n",
       "\n",
       "    .dataframe tbody tr th {\n",
       "        vertical-align: top;\n",
       "    }\n",
       "\n",
       "    .dataframe thead th {\n",
       "        text-align: right;\n",
       "    }\n",
       "</style>\n",
       "<table border=\"1\" class=\"dataframe\">\n",
       "  <thead>\n",
       "    <tr style=\"text-align: right;\">\n",
       "      <th></th>\n",
       "      <th>device</th>\n",
       "      <th>failure</th>\n",
       "      <th>attribute1</th>\n",
       "      <th>attribute2</th>\n",
       "      <th>attribute3</th>\n",
       "      <th>attribute4</th>\n",
       "      <th>attribute5</th>\n",
       "      <th>attribute6</th>\n",
       "      <th>attribute7</th>\n",
       "      <th>attribute8</th>\n",
       "      <th>attribute9</th>\n",
       "      <th>year</th>\n",
       "      <th>month</th>\n",
       "      <th>day</th>\n",
       "    </tr>\n",
       "  </thead>\n",
       "  <tbody>\n",
       "    <tr>\n",
       "      <th>0</th>\n",
       "      <td>S1F01085</td>\n",
       "      <td>0</td>\n",
       "      <td>215630672</td>\n",
       "      <td>56</td>\n",
       "      <td>0</td>\n",
       "      <td>52</td>\n",
       "      <td>6</td>\n",
       "      <td>407438</td>\n",
       "      <td>0</td>\n",
       "      <td>0</td>\n",
       "      <td>7</td>\n",
       "      <td>2015</td>\n",
       "      <td>1</td>\n",
       "      <td>1</td>\n",
       "    </tr>\n",
       "    <tr>\n",
       "      <th>1</th>\n",
       "      <td>S1F0166B</td>\n",
       "      <td>0</td>\n",
       "      <td>61370680</td>\n",
       "      <td>0</td>\n",
       "      <td>3</td>\n",
       "      <td>0</td>\n",
       "      <td>6</td>\n",
       "      <td>403174</td>\n",
       "      <td>0</td>\n",
       "      <td>0</td>\n",
       "      <td>0</td>\n",
       "      <td>2015</td>\n",
       "      <td>1</td>\n",
       "      <td>1</td>\n",
       "    </tr>\n",
       "  </tbody>\n",
       "</table>\n",
       "</div>"
      ],
      "text/plain": [
       "     device  failure  attribute1  attribute2  attribute3  attribute4  \\\n",
       "0  S1F01085        0   215630672          56           0          52   \n",
       "1  S1F0166B        0    61370680           0           3           0   \n",
       "\n",
       "   attribute5  attribute6  attribute7  attribute8  attribute9  year  month  \\\n",
       "0           6      407438           0           0           7  2015      1   \n",
       "1           6      403174           0           0           0  2015      1   \n",
       "\n",
       "   day  \n",
       "0    1  \n",
       "1    1  "
      ]
     },
     "execution_count": 24,
     "metadata": {},
     "output_type": "execute_result"
    }
   ],
   "source": [
    "df.head(2)"
   ]
  },
  {
   "cell_type": "code",
   "execution_count": 25,
   "id": "4c69db39-ecff-46b8-ad1f-228bc7e9eaf0",
   "metadata": {},
   "outputs": [
    {
     "name": "stdout",
     "output_type": "stream",
     "text": [
      "<class 'pandas.core.frame.DataFrame'>\n",
      "RangeIndex: 124494 entries, 0 to 124493\n",
      "Data columns (total 14 columns):\n",
      " #   Column      Non-Null Count   Dtype \n",
      "---  ------      --------------   ----- \n",
      " 0   device      124494 non-null  object\n",
      " 1   failure     124494 non-null  int64 \n",
      " 2   attribute1  124494 non-null  int64 \n",
      " 3   attribute2  124494 non-null  int64 \n",
      " 4   attribute3  124494 non-null  int64 \n",
      " 5   attribute4  124494 non-null  int64 \n",
      " 6   attribute5  124494 non-null  int64 \n",
      " 7   attribute6  124494 non-null  int64 \n",
      " 8   attribute7  124494 non-null  int64 \n",
      " 9   attribute8  124494 non-null  int64 \n",
      " 10  attribute9  124494 non-null  int64 \n",
      " 11  year        124494 non-null  int32 \n",
      " 12  month       124494 non-null  int32 \n",
      " 13  day         124494 non-null  int32 \n",
      "dtypes: int32(3), int64(10), object(1)\n",
      "memory usage: 11.9+ MB\n"
     ]
    }
   ],
   "source": [
    "df.info()"
   ]
  },
  {
   "cell_type": "code",
   "execution_count": 26,
   "id": "e26454f9-e8ec-4663-ba2d-18365eb1bf8e",
   "metadata": {},
   "outputs": [],
   "source": [
    "df['device_initial'] = df['device'].str[0] #cihaz kodlarının ilk harflerini aldık..\n",
    "df = pd.get_dummies(df, columns=['device_initial'])\n",
    "df = df.drop(columns=['device'])"
   ]
  },
  {
   "cell_type": "code",
   "execution_count": 27,
   "id": "0dea4089-1353-4f2f-b756-af82e1862ab9",
   "metadata": {},
   "outputs": [
    {
     "data": {
      "text/html": [
       "<div>\n",
       "<style scoped>\n",
       "    .dataframe tbody tr th:only-of-type {\n",
       "        vertical-align: middle;\n",
       "    }\n",
       "\n",
       "    .dataframe tbody tr th {\n",
       "        vertical-align: top;\n",
       "    }\n",
       "\n",
       "    .dataframe thead th {\n",
       "        text-align: right;\n",
       "    }\n",
       "</style>\n",
       "<table border=\"1\" class=\"dataframe\">\n",
       "  <thead>\n",
       "    <tr style=\"text-align: right;\">\n",
       "      <th></th>\n",
       "      <th>failure</th>\n",
       "      <th>attribute1</th>\n",
       "      <th>attribute2</th>\n",
       "      <th>attribute3</th>\n",
       "      <th>attribute4</th>\n",
       "      <th>attribute5</th>\n",
       "      <th>attribute6</th>\n",
       "      <th>attribute7</th>\n",
       "      <th>attribute8</th>\n",
       "      <th>attribute9</th>\n",
       "      <th>year</th>\n",
       "      <th>month</th>\n",
       "      <th>day</th>\n",
       "      <th>device_initial_S</th>\n",
       "      <th>device_initial_W</th>\n",
       "      <th>device_initial_Z</th>\n",
       "    </tr>\n",
       "  </thead>\n",
       "  <tbody>\n",
       "    <tr>\n",
       "      <th>111942</th>\n",
       "      <td>0</td>\n",
       "      <td>54766560</td>\n",
       "      <td>0</td>\n",
       "      <td>0</td>\n",
       "      <td>0</td>\n",
       "      <td>11</td>\n",
       "      <td>498237</td>\n",
       "      <td>0</td>\n",
       "      <td>0</td>\n",
       "      <td>0</td>\n",
       "      <td>2015</td>\n",
       "      <td>8</td>\n",
       "      <td>10</td>\n",
       "      <td>False</td>\n",
       "      <td>False</td>\n",
       "      <td>True</td>\n",
       "    </tr>\n",
       "    <tr>\n",
       "      <th>57690</th>\n",
       "      <td>0</td>\n",
       "      <td>114488096</td>\n",
       "      <td>0</td>\n",
       "      <td>0</td>\n",
       "      <td>0</td>\n",
       "      <td>8</td>\n",
       "      <td>309261</td>\n",
       "      <td>0</td>\n",
       "      <td>0</td>\n",
       "      <td>0</td>\n",
       "      <td>2015</td>\n",
       "      <td>3</td>\n",
       "      <td>20</td>\n",
       "      <td>False</td>\n",
       "      <td>True</td>\n",
       "      <td>False</td>\n",
       "    </tr>\n",
       "    <tr>\n",
       "      <th>52137</th>\n",
       "      <td>0</td>\n",
       "      <td>143390320</td>\n",
       "      <td>0</td>\n",
       "      <td>0</td>\n",
       "      <td>0</td>\n",
       "      <td>9</td>\n",
       "      <td>222683</td>\n",
       "      <td>0</td>\n",
       "      <td>0</td>\n",
       "      <td>0</td>\n",
       "      <td>2015</td>\n",
       "      <td>3</td>\n",
       "      <td>12</td>\n",
       "      <td>True</td>\n",
       "      <td>False</td>\n",
       "      <td>False</td>\n",
       "    </tr>\n",
       "    <tr>\n",
       "      <th>8854</th>\n",
       "      <td>0</td>\n",
       "      <td>106060584</td>\n",
       "      <td>0</td>\n",
       "      <td>0</td>\n",
       "      <td>0</td>\n",
       "      <td>7</td>\n",
       "      <td>271344</td>\n",
       "      <td>0</td>\n",
       "      <td>0</td>\n",
       "      <td>120</td>\n",
       "      <td>2015</td>\n",
       "      <td>1</td>\n",
       "      <td>9</td>\n",
       "      <td>False</td>\n",
       "      <td>True</td>\n",
       "      <td>False</td>\n",
       "    </tr>\n",
       "    <tr>\n",
       "      <th>51113</th>\n",
       "      <td>0</td>\n",
       "      <td>60610832</td>\n",
       "      <td>0</td>\n",
       "      <td>0</td>\n",
       "      <td>0</td>\n",
       "      <td>10</td>\n",
       "      <td>425716</td>\n",
       "      <td>0</td>\n",
       "      <td>0</td>\n",
       "      <td>0</td>\n",
       "      <td>2015</td>\n",
       "      <td>3</td>\n",
       "      <td>10</td>\n",
       "      <td>False</td>\n",
       "      <td>True</td>\n",
       "      <td>False</td>\n",
       "    </tr>\n",
       "  </tbody>\n",
       "</table>\n",
       "</div>"
      ],
      "text/plain": [
       "        failure  attribute1  attribute2  attribute3  attribute4  attribute5  \\\n",
       "111942        0    54766560           0           0           0          11   \n",
       "57690         0   114488096           0           0           0           8   \n",
       "52137         0   143390320           0           0           0           9   \n",
       "8854          0   106060584           0           0           0           7   \n",
       "51113         0    60610832           0           0           0          10   \n",
       "\n",
       "        attribute6  attribute7  attribute8  attribute9  year  month  day  \\\n",
       "111942      498237           0           0           0  2015      8   10   \n",
       "57690       309261           0           0           0  2015      3   20   \n",
       "52137       222683           0           0           0  2015      3   12   \n",
       "8854        271344           0           0         120  2015      1    9   \n",
       "51113       425716           0           0           0  2015      3   10   \n",
       "\n",
       "        device_initial_S  device_initial_W  device_initial_Z  \n",
       "111942             False             False              True  \n",
       "57690              False              True             False  \n",
       "52137               True             False             False  \n",
       "8854               False              True             False  \n",
       "51113              False              True             False  "
      ]
     },
     "execution_count": 27,
     "metadata": {},
     "output_type": "execute_result"
    }
   ],
   "source": [
    "df.sample(5)"
   ]
  },
  {
   "cell_type": "code",
   "execution_count": 28,
   "id": "af837b09-16f1-452c-aed6-ec419f79e6ca",
   "metadata": {},
   "outputs": [
    {
     "name": "stdout",
     "output_type": "stream",
     "text": [
      "<class 'pandas.core.frame.DataFrame'>\n",
      "RangeIndex: 124494 entries, 0 to 124493\n",
      "Data columns (total 16 columns):\n",
      " #   Column            Non-Null Count   Dtype\n",
      "---  ------            --------------   -----\n",
      " 0   failure           124494 non-null  int64\n",
      " 1   attribute1        124494 non-null  int64\n",
      " 2   attribute2        124494 non-null  int64\n",
      " 3   attribute3        124494 non-null  int64\n",
      " 4   attribute4        124494 non-null  int64\n",
      " 5   attribute5        124494 non-null  int64\n",
      " 6   attribute6        124494 non-null  int64\n",
      " 7   attribute7        124494 non-null  int64\n",
      " 8   attribute8        124494 non-null  int64\n",
      " 9   attribute9        124494 non-null  int64\n",
      " 10  year              124494 non-null  int32\n",
      " 11  month             124494 non-null  int32\n",
      " 12  day               124494 non-null  int32\n",
      " 13  device_initial_S  124494 non-null  bool \n",
      " 14  device_initial_W  124494 non-null  bool \n",
      " 15  device_initial_Z  124494 non-null  bool \n",
      "dtypes: bool(3), int32(3), int64(10)\n",
      "memory usage: 11.3 MB\n"
     ]
    }
   ],
   "source": [
    "df.info()"
   ]
  },
  {
   "cell_type": "markdown",
   "id": "02bcd755-d512-42e3-a7ba-943fb417d524",
   "metadata": {},
   "source": [
    "### Smote"
   ]
  },
  {
   "cell_type": "code",
   "execution_count": 30,
   "id": "45ae601c-95c8-4b09-af54-42c9f45572b5",
   "metadata": {},
   "outputs": [],
   "source": [
    "x = df.drop(columns=['failure'])\n",
    "y = df['failure']"
   ]
  },
  {
   "cell_type": "code",
   "execution_count": 31,
   "id": "7c92ca65-53b7-4d08-8ff3-313e090471cf",
   "metadata": {},
   "outputs": [],
   "source": [
    "oversample = SMOTE(random_state=42)\n",
    "x, y = oversample.fit_resample(x, y)\n"
   ]
  },
  {
   "cell_type": "code",
   "execution_count": 32,
   "id": "e994f3f3-866f-47b4-adee-fae5137ea62c",
   "metadata": {},
   "outputs": [
    {
     "data": {
      "text/plain": [
       "failure\n",
       "0    124388\n",
       "1    124388\n",
       "Name: count, dtype: int64"
      ]
     },
     "execution_count": 32,
     "metadata": {},
     "output_type": "execute_result"
    }
   ],
   "source": [
    "y.value_counts()"
   ]
  },
  {
   "cell_type": "markdown",
   "id": "be1d71bc-d359-457c-a705-52fa76c084d4",
   "metadata": {},
   "source": [
    "### Modelling"
   ]
  },
  {
   "cell_type": "code",
   "execution_count": 34,
   "id": "676724b0-38ae-4133-99ee-f5623a077443",
   "metadata": {},
   "outputs": [],
   "source": [
    "# Önce Best Modeli bulalım"
   ]
  },
  {
   "cell_type": "code",
   "execution_count": 35,
   "id": "4635f67d-0750-4747-9bbf-e8ade25092b9",
   "metadata": {},
   "outputs": [],
   "source": [
    "from sklearn.model_selection import train_test_split, cross_val_score\n",
    "from sklearn.metrics import accuracy_score\n",
    "from sklearn.preprocessing import StandardScaler\n",
    "from sklearn.ensemble import RandomForestClassifier\n",
    "from sklearn.neighbors import KNeighborsClassifier\n",
    "from sklearn.linear_model import LogisticRegression\n",
    "from sklearn.naive_bayes import GaussianNB\n",
    "from sklearn.tree import DecisionTreeClassifier\n",
    "\n",
    "def find_best_classifier(x, y):\n",
    "    # Veri setini eğitim ve test olarak ayırma\n",
    "    x_train, x_test, y_train, y_test = train_test_split(x, y, test_size=0.2, random_state=42)\n",
    "    \n",
    "    # Veriyi ölçeklendirme\n",
    "    scaler = StandardScaler()\n",
    "    x_train = scaler.fit_transform(x_train)\n",
    "    x_test = scaler.transform(x_test)\n",
    "    \n",
    "    # Kullanılacak modeller\n",
    "    classifiers = {\n",
    "        \"Logistic Regression\": LogisticRegression(),\n",
    "        \"K-Nearest Neighbors\": KNeighborsClassifier(),\n",
    "        \"Random Forest\": RandomForestClassifier(),\n",
    "        \"Naive Bayes\": GaussianNB(),\n",
    "        \"Decision Tree\": DecisionTreeClassifier()\n",
    "    }\n",
    "    \n",
    "    best_score = 0\n",
    "    best_model = None\n",
    "    \n",
    "    # Her modelin doğruluğunu hesaplama\n",
    "    for name, clf in classifiers.items():\n",
    "        clf.fit(x_train, y_train)\n",
    "        y_pred = clf.predict(x_test)\n",
    "        accuracy = accuracy_score(y_test, y_pred)\n",
    "        print(f\"{name} Accuracy: {accuracy:.4f}\")\n",
    "        \n",
    "        if accuracy > best_score:\n",
    "            best_score = accuracy\n",
    "            best_model = clf\n",
    "    \n",
    "    print(f\"\\nBest Model: {best_model.__class__.__name__} with Accuracy: {best_score:.4f}\")\n",
    "    return best_model"
   ]
  },
  {
   "cell_type": "code",
   "execution_count": 36,
   "id": "4e00c67f-92ce-4a23-b7f0-6de938f9d806",
   "metadata": {},
   "outputs": [],
   "source": [
    "#best_model = find_best_classifier(x, y)"
   ]
  },
  {
   "cell_type": "raw",
   "id": "4f1a6aac-aabc-4b00-ba9a-3c5cfd42fa5d",
   "metadata": {},
   "source": [
    "Logistic Regression Accuracy: 0.9199 \n",
    "K-Nearest Neighbors Accuracy: 0.9968\n",
    "Random Forest Accuracy: 0.9997\n",
    "Naive Bayes Accuracy: 0.7209\n",
    "Decision Tree Accuracy: 0.9991\n",
    "\n",
    "Best Model: RandomForestClassifier with Accuracy: 0.9997"
   ]
  },
  {
   "cell_type": "code",
   "execution_count": 37,
   "id": "37765e9c-4e19-4818-ab7a-236722c6216e",
   "metadata": {},
   "outputs": [],
   "source": [
    "from sklearn.ensemble import RandomForestClassifier\n",
    "model=RandomForestClassifier()"
   ]
  },
  {
   "cell_type": "code",
   "execution_count": 38,
   "id": "fc12d4cd-8d97-4ad4-a6f0-7576c2528f12",
   "metadata": {},
   "outputs": [],
   "source": [
    "x_train, x_test, y_train, y_test = train_test_split(x, y, test_size=0.2, random_state=42)"
   ]
  },
  {
   "cell_type": "code",
   "execution_count": 39,
   "id": "0361f6c8-3450-4b0f-982d-2c4ce0231ca7",
   "metadata": {},
   "outputs": [],
   "source": [
    "model.fit(x_train,y_train)\n",
    "tahmin=model.predict(x_test)"
   ]
  },
  {
   "cell_type": "code",
   "execution_count": 40,
   "id": "dc9eba8d-1af5-4ace-a34b-2ca4ce95d2fe",
   "metadata": {},
   "outputs": [
    {
     "data": {
      "text/plain": [
       "0.9995980384275264"
      ]
     },
     "execution_count": 40,
     "metadata": {},
     "output_type": "execute_result"
    }
   ],
   "source": [
    "accuracy_score(tahmin,y_test)"
   ]
  },
  {
   "cell_type": "code",
   "execution_count": 41,
   "id": "a6d64006-a4f7-4230-9a50-859091bd7817",
   "metadata": {},
   "outputs": [],
   "source": [
    "from sklearn.metrics import confusion_matrix, roc_auc_score"
   ]
  },
  {
   "cell_type": "code",
   "execution_count": 42,
   "id": "1444dff7-f6db-4617-9fd5-1904a96e00e3",
   "metadata": {},
   "outputs": [
    {
     "data": {
      "image/png": "[encoded data removed]",
      "text/plain": [
       "<Figure size 1000x700 with 2 Axes>"
      ]
     },
     "metadata": {},
     "output_type": "display_data"
    }
   ],
   "source": [
    "cm = confusion_matrix(y_test, tahmin)\n",
    "\n",
    "plt.figure(figsize=(10,7))\n",
    "sns.heatmap(cm, annot=True, fmt='d', cmap='Blues', \n",
    "            xticklabels=['arızalı', 'çalışır'], \n",
    "            yticklabels=['arızalı', 'çalışır'])\n",
    "plt.title('Confusion Matrix')\n",
    "plt.show()"
   ]
  },
  {
   "cell_type": "markdown",
   "id": "0ef6880a-94b1-4349-b2b5-c1771f279661",
   "metadata": {},
   "source": [
    "### Result"
   ]
  },
  {
   "cell_type": "markdown",
   "id": "0d363d62-9c6a-4329-bdf3-4421d5f013ac",
   "metadata": {},
   "source": [
    "RandomForestClassifier ile ekipman arızalarını önceden tahmin edebilecek %99 oranında başarı gösteren bir sınıflandırma modeli oluşturulmuştur. Dengesiz veri setleriyle başa çıkmak için SMOTE tekniği kullanılarak veri seti dengelenmiş ve bu sayede modelin performansı artırılmıştır."
   ]
  }
 ],
 "metadata": {
  "kernelspec": {
   "display_name": "Python 3 (ipykernel)",
   "language": "python",
   "name": "python3"
  },
  "language_info": {
   "codemirror_mode": {
    "name": "ipython",
    "version": 3
   },
   "file_extension": ".py",
   "mimetype": "text/x-python",
   "name": "python",
   "nbconvert_exporter": "python",
   "pygments_lexer": "ipython3",
   "version": "3.12.4"
  }
 },
 "nbformat": 4,
 "nbformat_minor": 5
}
